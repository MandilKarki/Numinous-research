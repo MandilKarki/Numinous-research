{
 "cells": [
  {
   "cell_type": "code",
   "execution_count": 1,
   "metadata": {
    "id": "anhibsY7jm9d"
   },
   "outputs": [],
   "source": [
    "import os\n",
    "import numpy as np\n",
    "import pandas as pd\n",
    "import tensorflow as tf\n",
    "import tensorflow_hub as hub\n",
    "from sklearn.decomposition import PCA\n",
    "from sklearn.metrics.pairwise import cosine_similarity\n",
    "from sklearn.manifold import TSNE\n",
    "import chart_studio.plotly as py\n",
    "import plotly.graph_objs as go\n",
    "import spacy\n",
    "from spacy.lang.en import English"
   ]
  },
  {
   "cell_type": "code",
   "execution_count": 2,
   "metadata": {
    "id": "u3cmQLa0nOE4"
   },
   "outputs": [],
   "source": [
    "ELMO_URL = \"https://tfhub.dev/google/elmo/3\"\n",
    "EXCEL_FILE_PATH = '/content/elmo_data.xlsx'\n",
    "DESCRIPTION_COLUMN = 'Description'\n",
    "SEARCH_STRING = \"what is thor's weapon\"\n",
    "RESULTS_RETURNED = 3"
   ]
  },
  {
   "cell_type": "code",
   "execution_count": 3,
   "metadata": {
    "id": "_iQbSvIcjvsZ"
   },
   "outputs": [],
   "source": [
    "def load_data(file_path):\n",
    "    df = pd.read_excel(file_path).reset_index(drop=True)\n",
    "    return df"
   ]
  },
  {
   "cell_type": "code",
   "execution_count": 4,
   "metadata": {
    "id": "0KVf5KBNn9iC"
   },
   "outputs": [],
   "source": [
    "def preprocess_text(nlp, text):\n",
    "    text = text.lower().replace('\\n', ' ').replace('\\t', ' ').replace('\\xa0', ' ')\n",
    "    sentences = [i.text.strip() for i in nlp(text).sents if len(i) > 1]\n",
    "    return sentences"
   ]
  },
  {
   "cell_type": "code",
   "execution_count": 5,
   "metadata": {
    "id": "5dOVMsBejxFL"
   },
   "outputs": [],
   "source": [
    "def calculate_embeddings(sentences):\n",
    "    embed = hub.load(ELMO_URL)\n",
    "    embeddings = embed.signatures[\"default\"](tf.constant(sentences))[\"default\"]\n",
    "    x = embeddings.numpy()\n",
    "    return x"
   ]
  },
  {
   "cell_type": "code",
   "execution_count": 6,
   "metadata": {
    "id": "OTRWB_9bjyzD"
   },
   "outputs": [],
   "source": [
    "def reduce_dimensions(x):\n",
    "    pca_tsne = TSNE(n_components=2)\n",
    "    y = pca_tsne.fit_transform(PCA(n_components=50).fit_transform(x))\n",
    "    return y"
   ]
  },
  {
   "cell_type": "code",
   "execution_count": 7,
   "metadata": {
    "id": "eWEEfn45j0yW"
   },
   "outputs": [],
   "source": [
    "def plot_embeddings(y, sentences):\n",
    "    data = [\n",
    "        go.Scatter(\n",
    "            x=y[:, 0],\n",
    "            y=y[:, 1],\n",
    "            mode='markers',\n",
    "            text=sentences,\n",
    "            marker=dict(\n",
    "                size=16,\n",
    "                color=[len(i) for i in sentences],\n",
    "                opacity=0.8,\n",
    "                colorscale='viridis',\n",
    "                showscale=False\n",
    "            )\n",
    "        )\n",
    "    ]\n",
    "    layout = dict(\n",
    "        yaxis=dict(zeroline=False),\n",
    "        xaxis=dict(zeroline=False)\n",
    "    )\n",
    "    fig = go.Figure(data=data, layout=layout)\n",
    "    fig.update_layout(width=900, height=600, title_text='Elmo Embeddings represented in 2 dimensions')\n",
    "    return fig"
   ]
  },
  {
   "cell_type": "code",
   "execution_count": 8,
   "metadata": {
    "id": "QX_zwuc2j3iQ"
   },
   "outputs": [],
   "source": [
    "def find_similar_sentences(search_string, embeddings, sentences, results_returned):\n",
    "    similar_scores = []\n",
    "    similar_terms = []\n",
    "\n",
    "    embeddings2 = hub.load(ELMO_URL).signatures[\"default\"](tf.constant([search_string],))[\"default\"]\n",
    "    search_vect = embeddings2.numpy()\n",
    "    cosine_similarities = pd.Series(cosine_similarity(search_vect, embeddings).flatten())\n",
    "\n",
    "    for i, j in cosine_similarities.nlargest(int(results_returned)).iteritems():\n",
    "        similar_score = j\n",
    "        similar_sentence = ' '.join([word if word.lower() in search_string else word for word in sentences[i].split()])\n",
    "\n",
    "        similar_scores.append(similar_score)\n",
    "        similar_terms.append(similar_sentence)\n",
    "\n",
    "    return similar_scores, similar_terms"
   ]
  },
  {
   "cell_type": "code",
   "execution_count": 9,
   "metadata": {
    "colab": {
     "base_uri": "https://localhost:8080/",
     "height": 617
    },
    "id": "c06jzyaXnmzC",
    "outputId": "4e45176b-7e90-4dd0-bd4a-9dcdc80d14d7"
   },
   "outputs": [
    {
     "data": {
      "text/html": [
       "<html>\n",
       "<head><meta charset=\"utf-8\" /></head>\n",
       "<body>\n",
       "    <div>            <script src=\"https://cdnjs.cloudflare.com/ajax/libs/mathjax/2.7.5/MathJax.js?config=TeX-AMS-MML_SVG\"></script><script type=\"text/javascript\">if (window.MathJax && window.MathJax.Hub && window.MathJax.Hub.Config) {window.MathJax.Hub.Config({SVG: {font: \"STIX-Web\"}});}</script>                <script type=\"text/javascript\">window.PlotlyConfig = {MathJaxConfig: 'local'};</script>\n",
       "        <script charset=\"utf-8\" src=\"https://cdn.plot.ly/plotly-2.24.1.min.js\"></script>                <div id=\"9c180a22-e013-486f-84dc-bebc39471f12\" class=\"plotly-graph-div\" style=\"height:600px; width:900px;\"></div>            <script type=\"text/javascript\">                                    window.PLOTLYENV=window.PLOTLYENV || {};                                    if (document.getElementById(\"9c180a22-e013-486f-84dc-bebc39471f12\")) {                    Plotly.newPlot(                        \"9c180a22-e013-486f-84dc-bebc39471f12\",                        [{\"marker\":{\"color\":[126,192,141,174,246,59,325,180,185,188,149,94,151,109,256,177,73,177,137,142,231,155,143,113,106,123,91,175,108,46,65,182,141,101,75,145,158,117,98,109,72,85,250,90,186,232,114,112,125,178,565,171,222,157],\"colorscale\":[[0.0,\"#440154\"],[0.1111111111111111,\"#482878\"],[0.2222222222222222,\"#3e4989\"],[0.3333333333333333,\"#31688e\"],[0.4444444444444444,\"#26828e\"],[0.5555555555555556,\"#1f9e89\"],[0.6666666666666666,\"#35b779\"],[0.7777777777777778,\"#6ece58\"],[0.8888888888888888,\"#b5de2b\"],[1.0,\"#fde725\"]],\"opacity\":0.8,\"showscale\":false,\"size\":16},\"mode\":\"markers\",\"text\":[\"thor odinson is the asgardian god of thunder, the former king of asgard and new asgard, and a founding member of the avengers.\",\"when his irresponsible and impetuous behavior reignited a conflict between asgard and jotunheim, thor was denied the right to become king, stripped of his power, and banished to earth by odin.\",\"while exiled on earth, thor learned humility, finding love with jane foster, and helped save his new friends from the destroyer sent by loki.\",\"due to his selfless act of sacrifice, thor redeemed himself in his father's eyes and was granted his power once more, which he then used to defeat loki's schemes of genocide.\",\"upon being welcomed back to asgard as a hero, thor was forced to return to earth in order to retrieve loki after he had survived to fall through a black hole and had begun his attempt at world domination, having taken possession of the tesseract.\",\"thor joined the avengers under the guidance of s.h.i.e.l.d.\",\"and stood with them to stop the schemes of his own adopted brother, eventually following the newly formed team as they battled against loki's army of the chitauri during the battle of new york until loki was eventually defeated by the avengers, captured and returned onto asgard to await justice for his crimes against earth.\",\"thor returned to asgard having defeated his brother's schemes, as he then helped the asgardian armies restore peace across all of the nine realms during the war of the nine realms.\",\"however, the peace proved to be short-lived as thor then fought the dark elves during the second dark elf conflict as they had attempted to plunge the nine realms into eternal darkness.\",\"during these events, thor was reunited with jane foster who had become host to the aether and a target of the dark elves, with thor being forced to free loki from imprisonment for his aid.\",\"eventually, the aether was removed from foster's body and loki seemingly sacrificed thor from kurse, leading to the dark elves and malekith's defeat.\",\"thor renounced his claim to the throne and left asgard for earth so he could stay with foster.\",\"loki laufeyson was the biological son of laufey, the ruler of the frost giants in jotunheim, who was abandoned and left to die shortly after his birth.\",\"found by odin, loki was taken to asgard and raised by him and frigga as an asgardian prince, along with thor.\",\"when thor was to be crowned king, loki had sabotaged the coronation by letting the frost giants attack asgard, thus leading thor to seek vengeance on jotunheim, which resulted in thor's banishment to earth and loki finding out the truth about his heritage.\",\"frigga gave loki the throne when odin had fallen into the odinsleep; however, when the warriors three and sif attempted to return thor home, loki was forced to try to stop them.\",\"regardless, thor returned from his exile on earth and ended loki's reign.\",\"with odin disapproving of his actions, loki allowed himself to fall through the deep abyss of space, entering a wormhole created by the sudden termination of the bifrost bridge.\",\"transported by the wormhole to sanctuary, loki encountered the other who offered to serve under thanos' command and gave him the scepter.\",\"loki was given with command over the chitauri army in order to conquer earth, under the provision that loki acquires the tesseract for thanos.\",\"once he came to earth, loki managed to take possession of the tesseract and used its power to open a wormhole above new york city and caused the chitauri invasion, but all of loki's schemes were ultimately defeated by the avengers.\",\"thor returned him to asgard as his prisoner, where odin condemned him to spend the rest of his life in the asgardian dungeons as punishment for his crimes.\",\"asgard was one of the nine realms and the home of the asgardians, a powerful race recognized by the galaxy as honorable and brave peacekeepers.\",\"asgard was destroyed during ragnar\\u00f6k when thor ordered loki to unleash surtur in order to kill their sister hela.\",\"led by their new king, a large number of survivors fled onboard a starship, planning to relocate to earth.\",\"mj\\u00f8lnir (\\\"that which smashes\\\")[1] was a powerful enchanted war-hammer forged by the dwarves for the asgardian royal family.\",\"the hammer was destroyed by hela during a confrontation between her, thor and loki in 2017.\",\"following the snap, thor time traveled to 2013 and brought the past version of the hammer into 2023, where it was primarily used by captain america during the battle of earth.\",\"following thanos' death, captain america traveled back in time to asgard of 2013 in order to return mj\\u00f8lnir.\",\"stormbreaker is an enchanted axe used by thor.\",\"it was forged from uru on nidavellir, and can summon the bifrost.\",\"doctor jane foster is one of the world's leading astrophysicists, the world's foremost astronomer, the creator of the foster theory, as well as one of the premiere experts on asgard.\",\"she found thor after he was banished from asgard and fell to earth while she and her team were in new mexico studying astronomical anomalies.\",\"she helped him in his mission to return to asgard, eventually falling in love with him along the way.\",\"they were separated due to the temporary destruction of the rainbow bridge.\",\"during loki's assault on earth, s.h.i.e.l.d. kept her out of harms way by transferring her to a remote observatory where loki could not find her.\",\"she found out of thor's return through the footage of the battle of new york; this left foster disappointed and angry that thor didn't attempt contacting her.\",\"during the convergence, she became host to the aether and helped thor defeat malekith during the battle of greenwich.\",\"once free of the aether, foster returned to work and thor had decided to remain on earth with her.\",\"due to her work studying of the convergence, foster was being considered for the noble prize in astrophysics.\",\"following the ultron offensive, foster ended her relationship with thor.\",\"hela odinsdottir was the asgardian goddess of death and former executioner of asgard.\",\"imprisoned in hel for millennia by her father odin, hela was released from her prison in the wake of his death and went to restore her power over asgard, while simultaneously engaging in a series of encounters with her younger brothers thor and loki.\",\"gaining her power from asgard, hela planned to rule asgard and create an asgardian empire.\",\"when all the people of asgard refused to bow to her, hela set about massacring odin's armies and enslaving their people, while recruiting skurge to be her own executioner in the process.\",\"eventually, however, thor then returned with the newly formed revengers and then reengaged hela, which had then resulted with loki unleashing surtur, who then destroyed asgard by finally causing ragnar\\u00f6k and killed hela as a result.\",\"as thor and loki grew up together, loki developed a taste for mischief and magic, as he had been taught by frigga.\",\"thor was once tricked by his brother when loki transformed himself into a snake, knowing that thor loved snakes.\",\"upon picking up the snake, thor was surprised as loki turned back to himself and stabbed his brother, although thor survived.\",\"in another instance, loki transformed thor into a frog for a brief time thor had an idyllic childhood, brought up in asgard as the most treasured son of odin and his wife frigga.\",\"his best friend and playmate was his adopted brother loki, and though the brothers were both rivals for their father's throne, they still remained close companions.[1] loki was taught magic by their mother, while thor was taught how to be a warrior by their father.[4] during his youth, thor fostered a strong desire to join the valkyrie until he learned they were an elite group of female-only soldiers following thanos' death, thor left the avengers and relocated to t\\u00f8nsberg, norway, where he and the surviving asgardians resettled, renaming the town new asgard.\",\"five years later, hulk and rocket traveled to new asgard to convince the now-overweight and depressed thor to rejoin the team after discovering how to travel through time.\",\"thor joined the avengers on their time heist and participated in the battle of earth, where he fought thanos again alongside captain america and iron man, the latter sacrificing his life to eliminate thanos and his armies.\",\"after attending stark's funeral, thor decided to go with the guardians of the galaxy, proclaiming valkyrie to succeed him as the new ruler of the asgardians.\"],\"x\":[2.935434579849243,1.1567158699035645,1.7704119682312012,0.9174661636352539,0.7430153489112854,0.3893808424472809,1.1383153200149536,0.4350460171699524,0.3788873553276062,1.307789921760559,1.8500030040740967,0.5528753399848938,2.741061210632324,2.20221209526062,1.4011764526367188,1.523533582687378,0.3997039794921875,0.6292173266410828,1.433693528175354,1.74346125125885,1.167631983757019,0.7113812565803528,2.4247498512268066,1.6818351745605469,-0.010183097794651985,3.3266279697418213,1.9474049806594849,0.4859135150909424,1.070844054222107,3.476067543029785,2.0846400260925293,2.7922942638397217,-0.26295363903045654,-0.17783036828041077,-0.478977769613266,0.30594295263290405,-0.30642253160476685,0.6239398717880249,-0.2953208386898041,-1.0532493591308594,-0.7858327627182007,3.3929603099823,1.1880487203598022,1.3129236698150635,1.191709041595459,1.366228699684143,2.653797149658203,2.3808600902557373,2.208827495574951,2.5306756496429443,1.8362475633621216,0.016255948692560196,1.2836247682571411,1.7844678163528442],\"y\":[-2.8595223426818848,-2.5473828315734863,-2.381211042404175,-2.697561740875244,-1.4063754081726074,-0.01883655972778797,-1.763473629951477,-1.5161675214767456,-1.3498708009719849,-1.7896138429641724,-1.602386474609375,-2.8983213901519775,-2.17056941986084,-1.6845862865447998,-1.9310356378555298,-1.6460121870040894,-3.100348711013794,-1.05763840675354,-0.7862787842750549,-0.5444163084030151,-1.3250069618225098,-3.358975887298584,-3.24198055267334,-1.1679847240447998,-0.6642885804176331,-2.00421142578125,-0.6712690591812134,-0.8373295068740845,0.08216843754053116,-1.2605631351470947,-0.18599086999893188,-3.332510471343994,-1.9015833139419556,-2.2333877086639404,-0.8119320273399353,-1.999403476715088,-2.1357195377349854,-1.8331425189971924,-2.5763461589813232,-1.8349312543869019,-2.7292165756225586,-2.972120523452759,-2.780886173248291,-3.436190605163574,-2.591106414794922,-1.6609740257263184,-1.676161289215088,-1.5888522863388062,-1.1765215396881104,-1.9173040390014648,-2.0551626682281494,-0.7040859460830688,-1.5853691101074219,-2.6065380573272705],\"type\":\"scatter\"}],                        {\"xaxis\":{\"zeroline\":false},\"yaxis\":{\"zeroline\":false},\"template\":{\"data\":{\"histogram2dcontour\":[{\"type\":\"histogram2dcontour\",\"colorbar\":{\"outlinewidth\":0,\"ticks\":\"\"},\"colorscale\":[[0.0,\"#0d0887\"],[0.1111111111111111,\"#46039f\"],[0.2222222222222222,\"#7201a8\"],[0.3333333333333333,\"#9c179e\"],[0.4444444444444444,\"#bd3786\"],[0.5555555555555556,\"#d8576b\"],[0.6666666666666666,\"#ed7953\"],[0.7777777777777778,\"#fb9f3a\"],[0.8888888888888888,\"#fdca26\"],[1.0,\"#f0f921\"]]}],\"choropleth\":[{\"type\":\"choropleth\",\"colorbar\":{\"outlinewidth\":0,\"ticks\":\"\"}}],\"histogram2d\":[{\"type\":\"histogram2d\",\"colorbar\":{\"outlinewidth\":0,\"ticks\":\"\"},\"colorscale\":[[0.0,\"#0d0887\"],[0.1111111111111111,\"#46039f\"],[0.2222222222222222,\"#7201a8\"],[0.3333333333333333,\"#9c179e\"],[0.4444444444444444,\"#bd3786\"],[0.5555555555555556,\"#d8576b\"],[0.6666666666666666,\"#ed7953\"],[0.7777777777777778,\"#fb9f3a\"],[0.8888888888888888,\"#fdca26\"],[1.0,\"#f0f921\"]]}],\"heatmap\":[{\"type\":\"heatmap\",\"colorbar\":{\"outlinewidth\":0,\"ticks\":\"\"},\"colorscale\":[[0.0,\"#0d0887\"],[0.1111111111111111,\"#46039f\"],[0.2222222222222222,\"#7201a8\"],[0.3333333333333333,\"#9c179e\"],[0.4444444444444444,\"#bd3786\"],[0.5555555555555556,\"#d8576b\"],[0.6666666666666666,\"#ed7953\"],[0.7777777777777778,\"#fb9f3a\"],[0.8888888888888888,\"#fdca26\"],[1.0,\"#f0f921\"]]}],\"heatmapgl\":[{\"type\":\"heatmapgl\",\"colorbar\":{\"outlinewidth\":0,\"ticks\":\"\"},\"colorscale\":[[0.0,\"#0d0887\"],[0.1111111111111111,\"#46039f\"],[0.2222222222222222,\"#7201a8\"],[0.3333333333333333,\"#9c179e\"],[0.4444444444444444,\"#bd3786\"],[0.5555555555555556,\"#d8576b\"],[0.6666666666666666,\"#ed7953\"],[0.7777777777777778,\"#fb9f3a\"],[0.8888888888888888,\"#fdca26\"],[1.0,\"#f0f921\"]]}],\"contourcarpet\":[{\"type\":\"contourcarpet\",\"colorbar\":{\"outlinewidth\":0,\"ticks\":\"\"}}],\"contour\":[{\"type\":\"contour\",\"colorbar\":{\"outlinewidth\":0,\"ticks\":\"\"},\"colorscale\":[[0.0,\"#0d0887\"],[0.1111111111111111,\"#46039f\"],[0.2222222222222222,\"#7201a8\"],[0.3333333333333333,\"#9c179e\"],[0.4444444444444444,\"#bd3786\"],[0.5555555555555556,\"#d8576b\"],[0.6666666666666666,\"#ed7953\"],[0.7777777777777778,\"#fb9f3a\"],[0.8888888888888888,\"#fdca26\"],[1.0,\"#f0f921\"]]}],\"surface\":[{\"type\":\"surface\",\"colorbar\":{\"outlinewidth\":0,\"ticks\":\"\"},\"colorscale\":[[0.0,\"#0d0887\"],[0.1111111111111111,\"#46039f\"],[0.2222222222222222,\"#7201a8\"],[0.3333333333333333,\"#9c179e\"],[0.4444444444444444,\"#bd3786\"],[0.5555555555555556,\"#d8576b\"],[0.6666666666666666,\"#ed7953\"],[0.7777777777777778,\"#fb9f3a\"],[0.8888888888888888,\"#fdca26\"],[1.0,\"#f0f921\"]]}],\"mesh3d\":[{\"type\":\"mesh3d\",\"colorbar\":{\"outlinewidth\":0,\"ticks\":\"\"}}],\"scatter\":[{\"fillpattern\":{\"fillmode\":\"overlay\",\"size\":10,\"solidity\":0.2},\"type\":\"scatter\"}],\"parcoords\":[{\"type\":\"parcoords\",\"line\":{\"colorbar\":{\"outlinewidth\":0,\"ticks\":\"\"}}}],\"scatterpolargl\":[{\"type\":\"scatterpolargl\",\"marker\":{\"colorbar\":{\"outlinewidth\":0,\"ticks\":\"\"}}}],\"bar\":[{\"error_x\":{\"color\":\"#2a3f5f\"},\"error_y\":{\"color\":\"#2a3f5f\"},\"marker\":{\"line\":{\"color\":\"#E5ECF6\",\"width\":0.5},\"pattern\":{\"fillmode\":\"overlay\",\"size\":10,\"solidity\":0.2}},\"type\":\"bar\"}],\"scattergeo\":[{\"type\":\"scattergeo\",\"marker\":{\"colorbar\":{\"outlinewidth\":0,\"ticks\":\"\"}}}],\"scatterpolar\":[{\"type\":\"scatterpolar\",\"marker\":{\"colorbar\":{\"outlinewidth\":0,\"ticks\":\"\"}}}],\"histogram\":[{\"marker\":{\"pattern\":{\"fillmode\":\"overlay\",\"size\":10,\"solidity\":0.2}},\"type\":\"histogram\"}],\"scattergl\":[{\"type\":\"scattergl\",\"marker\":{\"colorbar\":{\"outlinewidth\":0,\"ticks\":\"\"}}}],\"scatter3d\":[{\"type\":\"scatter3d\",\"line\":{\"colorbar\":{\"outlinewidth\":0,\"ticks\":\"\"}},\"marker\":{\"colorbar\":{\"outlinewidth\":0,\"ticks\":\"\"}}}],\"scattermapbox\":[{\"type\":\"scattermapbox\",\"marker\":{\"colorbar\":{\"outlinewidth\":0,\"ticks\":\"\"}}}],\"scatterternary\":[{\"type\":\"scatterternary\",\"marker\":{\"colorbar\":{\"outlinewidth\":0,\"ticks\":\"\"}}}],\"scattercarpet\":[{\"type\":\"scattercarpet\",\"marker\":{\"colorbar\":{\"outlinewidth\":0,\"ticks\":\"\"}}}],\"carpet\":[{\"aaxis\":{\"endlinecolor\":\"#2a3f5f\",\"gridcolor\":\"white\",\"linecolor\":\"white\",\"minorgridcolor\":\"white\",\"startlinecolor\":\"#2a3f5f\"},\"baxis\":{\"endlinecolor\":\"#2a3f5f\",\"gridcolor\":\"white\",\"linecolor\":\"white\",\"minorgridcolor\":\"white\",\"startlinecolor\":\"#2a3f5f\"},\"type\":\"carpet\"}],\"table\":[{\"cells\":{\"fill\":{\"color\":\"#EBF0F8\"},\"line\":{\"color\":\"white\"}},\"header\":{\"fill\":{\"color\":\"#C8D4E3\"},\"line\":{\"color\":\"white\"}},\"type\":\"table\"}],\"barpolar\":[{\"marker\":{\"line\":{\"color\":\"#E5ECF6\",\"width\":0.5},\"pattern\":{\"fillmode\":\"overlay\",\"size\":10,\"solidity\":0.2}},\"type\":\"barpolar\"}],\"pie\":[{\"automargin\":true,\"type\":\"pie\"}]},\"layout\":{\"autotypenumbers\":\"strict\",\"colorway\":[\"#636efa\",\"#EF553B\",\"#00cc96\",\"#ab63fa\",\"#FFA15A\",\"#19d3f3\",\"#FF6692\",\"#B6E880\",\"#FF97FF\",\"#FECB52\"],\"font\":{\"color\":\"#2a3f5f\"},\"hovermode\":\"closest\",\"hoverlabel\":{\"align\":\"left\"},\"paper_bgcolor\":\"white\",\"plot_bgcolor\":\"#E5ECF6\",\"polar\":{\"bgcolor\":\"#E5ECF6\",\"angularaxis\":{\"gridcolor\":\"white\",\"linecolor\":\"white\",\"ticks\":\"\"},\"radialaxis\":{\"gridcolor\":\"white\",\"linecolor\":\"white\",\"ticks\":\"\"}},\"ternary\":{\"bgcolor\":\"#E5ECF6\",\"aaxis\":{\"gridcolor\":\"white\",\"linecolor\":\"white\",\"ticks\":\"\"},\"baxis\":{\"gridcolor\":\"white\",\"linecolor\":\"white\",\"ticks\":\"\"},\"caxis\":{\"gridcolor\":\"white\",\"linecolor\":\"white\",\"ticks\":\"\"}},\"coloraxis\":{\"colorbar\":{\"outlinewidth\":0,\"ticks\":\"\"}},\"colorscale\":{\"sequential\":[[0.0,\"#0d0887\"],[0.1111111111111111,\"#46039f\"],[0.2222222222222222,\"#7201a8\"],[0.3333333333333333,\"#9c179e\"],[0.4444444444444444,\"#bd3786\"],[0.5555555555555556,\"#d8576b\"],[0.6666666666666666,\"#ed7953\"],[0.7777777777777778,\"#fb9f3a\"],[0.8888888888888888,\"#fdca26\"],[1.0,\"#f0f921\"]],\"sequentialminus\":[[0.0,\"#0d0887\"],[0.1111111111111111,\"#46039f\"],[0.2222222222222222,\"#7201a8\"],[0.3333333333333333,\"#9c179e\"],[0.4444444444444444,\"#bd3786\"],[0.5555555555555556,\"#d8576b\"],[0.6666666666666666,\"#ed7953\"],[0.7777777777777778,\"#fb9f3a\"],[0.8888888888888888,\"#fdca26\"],[1.0,\"#f0f921\"]],\"diverging\":[[0,\"#8e0152\"],[0.1,\"#c51b7d\"],[0.2,\"#de77ae\"],[0.3,\"#f1b6da\"],[0.4,\"#fde0ef\"],[0.5,\"#f7f7f7\"],[0.6,\"#e6f5d0\"],[0.7,\"#b8e186\"],[0.8,\"#7fbc41\"],[0.9,\"#4d9221\"],[1,\"#276419\"]]},\"xaxis\":{\"gridcolor\":\"white\",\"linecolor\":\"white\",\"ticks\":\"\",\"title\":{\"standoff\":15},\"zerolinecolor\":\"white\",\"automargin\":true,\"zerolinewidth\":2},\"yaxis\":{\"gridcolor\":\"white\",\"linecolor\":\"white\",\"ticks\":\"\",\"title\":{\"standoff\":15},\"zerolinecolor\":\"white\",\"automargin\":true,\"zerolinewidth\":2},\"scene\":{\"xaxis\":{\"backgroundcolor\":\"#E5ECF6\",\"gridcolor\":\"white\",\"linecolor\":\"white\",\"showbackground\":true,\"ticks\":\"\",\"zerolinecolor\":\"white\",\"gridwidth\":2},\"yaxis\":{\"backgroundcolor\":\"#E5ECF6\",\"gridcolor\":\"white\",\"linecolor\":\"white\",\"showbackground\":true,\"ticks\":\"\",\"zerolinecolor\":\"white\",\"gridwidth\":2},\"zaxis\":{\"backgroundcolor\":\"#E5ECF6\",\"gridcolor\":\"white\",\"linecolor\":\"white\",\"showbackground\":true,\"ticks\":\"\",\"zerolinecolor\":\"white\",\"gridwidth\":2}},\"shapedefaults\":{\"line\":{\"color\":\"#2a3f5f\"}},\"annotationdefaults\":{\"arrowcolor\":\"#2a3f5f\",\"arrowhead\":0,\"arrowwidth\":1},\"geo\":{\"bgcolor\":\"white\",\"landcolor\":\"#E5ECF6\",\"subunitcolor\":\"white\",\"showland\":true,\"showlakes\":true,\"lakecolor\":\"white\"},\"title\":{\"x\":0.05},\"mapbox\":{\"style\":\"light\"}}},\"title\":{\"text\":\"Elmo Embeddings represented in 2 dimensions\"},\"width\":900,\"height\":600},                        {\"responsive\": true}                    ).then(function(){\n",
       "                            \n",
       "var gd = document.getElementById('9c180a22-e013-486f-84dc-bebc39471f12');\n",
       "var x = new MutationObserver(function (mutations, observer) {{\n",
       "        var display = window.getComputedStyle(gd).display;\n",
       "        if (!display || display === 'none') {{\n",
       "            console.log([gd, 'removed!']);\n",
       "            Plotly.purge(gd);\n",
       "            observer.disconnect();\n",
       "        }}\n",
       "}});\n",
       "\n",
       "// Listen for the removal of the full notebook cells\n",
       "var notebookContainer = gd.closest('#notebook-container');\n",
       "if (notebookContainer) {{\n",
       "    x.observe(notebookContainer, {childList: true});\n",
       "}}\n",
       "\n",
       "// Listen for the clearing of the current output cell\n",
       "var outputEl = gd.closest('.output');\n",
       "if (outputEl) {{\n",
       "    x.observe(outputEl, {childList: true});\n",
       "}}\n",
       "\n",
       "                        })                };                            </script>        </div>\n",
       "</body>\n",
       "</html>"
      ]
     },
     "metadata": {},
     "output_type": "display_data"
    }
   ],
   "source": [
    "df = load_data(EXCEL_FILE_PATH)\n",
    "nlp = spacy.load('en_core_web_sm')\n",
    "sentences = preprocess_text(nlp, ' '.join(df[DESCRIPTION_COLUMN]))\n",
    "embeddings = calculate_embeddings(sentences)\n",
    "reduced_embeddings = reduce_dimensions(embeddings)\n",
    "plot = plot_embeddings(reduced_embeddings, sentences)\n",
    "plot.show()"
   ]
  },
  {
   "cell_type": "code",
   "execution_count": 10,
   "metadata": {
    "colab": {
     "base_uri": "https://localhost:8080/"
    },
    "id": "ZJH1cxNFosON",
    "outputId": "da212b02-922f-43ca-f26f-90ee8e2d34f1"
   },
   "outputs": [
    {
     "name": "stderr",
     "output_type": "stream",
     "text": [
      "<ipython-input-8-89bbf44519bc>:9: FutureWarning:\n",
      "\n",
      "iteritems is deprecated and will be removed in a future version. Use .items instead.\n",
      "\n"
     ]
    }
   ],
   "source": [
    "similar_scores, similar_terms = find_similar_sentences(SEARCH_STRING, embeddings, sentences, RESULTS_RETURNED)\n",
    "similarity_df = pd.DataFrame({'Similarity Score': similar_scores, 'Similar Terms': similar_terms})"
   ]
  },
  {
   "cell_type": "code",
   "execution_count": 11,
   "metadata": {
    "colab": {
     "base_uri": "https://localhost:8080/",
     "height": 143
    },
    "id": "27Eo3xh7o36k",
    "outputId": "0085e25c-0499-4afd-cd42-263835e4323f"
   },
   "outputs": [
    {
     "data": {
      "text/html": [
       "\n",
       "  <div id=\"df-9321aa02-8a81-4320-83c7-4487eabd9f62\" class=\"colab-df-container\">\n",
       "    <div>\n",
       "<style scoped>\n",
       "    .dataframe tbody tr th:only-of-type {\n",
       "        vertical-align: middle;\n",
       "    }\n",
       "\n",
       "    .dataframe tbody tr th {\n",
       "        vertical-align: top;\n",
       "    }\n",
       "\n",
       "    .dataframe thead th {\n",
       "        text-align: right;\n",
       "    }\n",
       "</style>\n",
       "<table border=\"1\" class=\"dataframe\">\n",
       "  <thead>\n",
       "    <tr style=\"text-align: right;\">\n",
       "      <th></th>\n",
       "      <th>Similarity Score</th>\n",
       "      <th>Similar Terms</th>\n",
       "    </tr>\n",
       "  </thead>\n",
       "  <tbody>\n",
       "    <tr>\n",
       "      <th>0</th>\n",
       "      <td>0.528599</td>\n",
       "      <td>stormbreaker is an enchanted axe used by thor.</td>\n",
       "    </tr>\n",
       "    <tr>\n",
       "      <th>1</th>\n",
       "      <td>0.519069</td>\n",
       "      <td>when his irresponsible and impetuous behavior ...</td>\n",
       "    </tr>\n",
       "    <tr>\n",
       "      <th>2</th>\n",
       "      <td>0.512350</td>\n",
       "      <td>when all the people of asgard refused to bow t...</td>\n",
       "    </tr>\n",
       "  </tbody>\n",
       "</table>\n",
       "</div>\n",
       "    <div class=\"colab-df-buttons\">\n",
       "\n",
       "  <div class=\"colab-df-container\">\n",
       "    <button class=\"colab-df-convert\" onclick=\"convertToInteractive('df-9321aa02-8a81-4320-83c7-4487eabd9f62')\"\n",
       "            title=\"Convert this dataframe to an interactive table.\"\n",
       "            style=\"display:none;\">\n",
       "\n",
       "  <svg xmlns=\"http://www.w3.org/2000/svg\" height=\"24px\" viewBox=\"0 -960 960 960\">\n",
       "    <path d=\"M120-120v-720h720v720H120Zm60-500h600v-160H180v160Zm220 220h160v-160H400v160Zm0 220h160v-160H400v160ZM180-400h160v-160H180v160Zm440 0h160v-160H620v160ZM180-180h160v-160H180v160Zm440 0h160v-160H620v160Z\"/>\n",
       "  </svg>\n",
       "    </button>\n",
       "\n",
       "  <style>\n",
       "    .colab-df-container {\n",
       "      display:flex;\n",
       "      gap: 12px;\n",
       "    }\n",
       "\n",
       "    .colab-df-convert {\n",
       "      background-color: #E8F0FE;\n",
       "      border: none;\n",
       "      border-radius: 50%;\n",
       "      cursor: pointer;\n",
       "      display: none;\n",
       "      fill: #1967D2;\n",
       "      height: 32px;\n",
       "      padding: 0 0 0 0;\n",
       "      width: 32px;\n",
       "    }\n",
       "\n",
       "    .colab-df-convert:hover {\n",
       "      background-color: #E2EBFA;\n",
       "      box-shadow: 0px 1px 2px rgba(60, 64, 67, 0.3), 0px 1px 3px 1px rgba(60, 64, 67, 0.15);\n",
       "      fill: #174EA6;\n",
       "    }\n",
       "\n",
       "    .colab-df-buttons div {\n",
       "      margin-bottom: 4px;\n",
       "    }\n",
       "\n",
       "    [theme=dark] .colab-df-convert {\n",
       "      background-color: #3B4455;\n",
       "      fill: #D2E3FC;\n",
       "    }\n",
       "\n",
       "    [theme=dark] .colab-df-convert:hover {\n",
       "      background-color: #434B5C;\n",
       "      box-shadow: 0px 1px 3px 1px rgba(0, 0, 0, 0.15);\n",
       "      filter: drop-shadow(0px 1px 2px rgba(0, 0, 0, 0.3));\n",
       "      fill: #FFFFFF;\n",
       "    }\n",
       "  </style>\n",
       "\n",
       "    <script>\n",
       "      const buttonEl =\n",
       "        document.querySelector('#df-9321aa02-8a81-4320-83c7-4487eabd9f62 button.colab-df-convert');\n",
       "      buttonEl.style.display =\n",
       "        google.colab.kernel.accessAllowed ? 'block' : 'none';\n",
       "\n",
       "      async function convertToInteractive(key) {\n",
       "        const element = document.querySelector('#df-9321aa02-8a81-4320-83c7-4487eabd9f62');\n",
       "        const dataTable =\n",
       "          await google.colab.kernel.invokeFunction('convertToInteractive',\n",
       "                                                    [key], {});\n",
       "        if (!dataTable) return;\n",
       "\n",
       "        const docLinkHtml = 'Like what you see? Visit the ' +\n",
       "          '<a target=\"_blank\" href=https://colab.research.google.com/notebooks/data_table.ipynb>data table notebook</a>'\n",
       "          + ' to learn more about interactive tables.';\n",
       "        element.innerHTML = '';\n",
       "        dataTable['output_type'] = 'display_data';\n",
       "        await google.colab.output.renderOutput(dataTable, element);\n",
       "        const docLink = document.createElement('div');\n",
       "        docLink.innerHTML = docLinkHtml;\n",
       "        element.appendChild(docLink);\n",
       "      }\n",
       "    </script>\n",
       "  </div>\n",
       "\n",
       "    </div>\n",
       "  </div>\n"
      ],
      "text/plain": [
       "   Similarity Score                                      Similar Terms\n",
       "0          0.528599     stormbreaker is an enchanted axe used by thor.\n",
       "1          0.519069  when his irresponsible and impetuous behavior ...\n",
       "2          0.512350  when all the people of asgard refused to bow t..."
      ]
     },
     "execution_count": 11,
     "metadata": {},
     "output_type": "execute_result"
    }
   ],
   "source": [
    "similarity_df"
   ]
  }
 ],
 "metadata": {
  "colab": {
   "provenance": []
  },
  "kernelspec": {
   "display_name": "Python 3 (ipykernel)",
   "language": "python",
   "name": "python3"
  },
  "language_info": {
   "codemirror_mode": {
    "name": "ipython",
    "version": 3
   },
   "file_extension": ".py",
   "mimetype": "text/x-python",
   "name": "python",
   "nbconvert_exporter": "python",
   "pygments_lexer": "ipython3",
   "version": "3.10.12"
  }
 },
 "nbformat": 4,
 "nbformat_minor": 1
}
