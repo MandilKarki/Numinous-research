{
 "cells": [
  {
   "cell_type": "code",
   "execution_count": 1,
   "id": "c8d895d3",
   "metadata": {},
   "outputs": [],
   "source": [
    "import math\n",
    "import pandas as pd"
   ]
  },
  {
   "cell_type": "code",
   "execution_count": 2,
   "id": "90489864",
   "metadata": {},
   "outputs": [],
   "source": [
    "def tokenize(sentence):\n",
    "    return sentence.lower().split()"
   ]
  },
  {
   "cell_type": "code",
   "execution_count": 3,
   "id": "d2bcde7c",
   "metadata": {},
   "outputs": [],
   "source": [
    "def calculate_tf(tokens):\n",
    "    tf_dict = {}\n",
    "    total_tokens = len(tokens)\n",
    "    for token in tokens:\n",
    "        if token in tf_dict:\n",
    "            tf_dict[token] += 1\n",
    "        else:\n",
    "            tf_dict[token] = 1\n",
    "    for token, count in tf_dict.items():\n",
    "        tf_dict[token] = count / total_tokens\n",
    "    return tf_dict"
   ]
  },
  {
   "cell_type": "code",
   "execution_count": 4,
   "id": "8c56514a",
   "metadata": {},
   "outputs": [],
   "source": [
    "def calculate_idf(sentences):\n",
    "    idf_dict = {}\n",
    "    total_sentences = len(sentences)\n",
    "    \n",
    "    for sentence in sentences:\n",
    "        tokens = set(tokenize(sentence))\n",
    "        for token in tokens:\n",
    "            if token in idf_dict:\n",
    "                idf_dict[token] += 1\n",
    "            else:\n",
    "                idf_dict[token] = 1\n",
    "                \n",
    "    for token, count in idf_dict.items():\n",
    "        idf_dict[token] = math.log(total_sentences / count)\n",
    "        \n",
    "    return idf_dict"
   ]
  },
  {
   "cell_type": "code",
   "execution_count": 5,
   "id": "49956961",
   "metadata": {},
   "outputs": [],
   "source": [
    "def calculate_tfidf(tf, idf):\n",
    "    tfidf = {}\n",
    "    for token, tf_value in tf.items():\n",
    "        tfidf[token] = tf_value * idf.get(token, 0)\n",
    "    return tfidf"
   ]
  },
  {
   "cell_type": "code",
   "execution_count": 6,
   "id": "5147fcd0",
   "metadata": {},
   "outputs": [
    {
     "data": {
      "text/html": [
       "<div>\n",
       "<style scoped>\n",
       "    .dataframe tbody tr th:only-of-type {\n",
       "        vertical-align: middle;\n",
       "    }\n",
       "\n",
       "    .dataframe tbody tr th {\n",
       "        vertical-align: top;\n",
       "    }\n",
       "\n",
       "    .dataframe thead th {\n",
       "        text-align: right;\n",
       "    }\n",
       "</style>\n",
       "<table border=\"1\" class=\"dataframe\">\n",
       "  <thead>\n",
       "    <tr style=\"text-align: right;\">\n",
       "      <th></th>\n",
       "      <th>this</th>\n",
       "      <th>movie</th>\n",
       "      <th>is</th>\n",
       "      <th>very</th>\n",
       "      <th>scary</th>\n",
       "      <th>and</th>\n",
       "      <th>long</th>\n",
       "      <th>not</th>\n",
       "      <th>slow</th>\n",
       "      <th>spooky</th>\n",
       "      <th>good</th>\n",
       "    </tr>\n",
       "  </thead>\n",
       "  <tbody>\n",
       "    <tr>\n",
       "      <th>Sentence 1</th>\n",
       "      <td>0.0</td>\n",
       "      <td>0.0</td>\n",
       "      <td>0.0</td>\n",
       "      <td>0.156945</td>\n",
       "      <td>0.057924</td>\n",
       "      <td>0.0</td>\n",
       "      <td>0.156945</td>\n",
       "      <td>0.000000</td>\n",
       "      <td>0.000000</td>\n",
       "      <td>0.000000</td>\n",
       "      <td>0.000000</td>\n",
       "    </tr>\n",
       "    <tr>\n",
       "      <th>Sentence 2</th>\n",
       "      <td>0.0</td>\n",
       "      <td>0.0</td>\n",
       "      <td>0.0</td>\n",
       "      <td>0.000000</td>\n",
       "      <td>0.050683</td>\n",
       "      <td>0.0</td>\n",
       "      <td>0.000000</td>\n",
       "      <td>0.137327</td>\n",
       "      <td>0.137327</td>\n",
       "      <td>0.000000</td>\n",
       "      <td>0.000000</td>\n",
       "    </tr>\n",
       "    <tr>\n",
       "      <th>Sentence 3</th>\n",
       "      <td>0.0</td>\n",
       "      <td>0.0</td>\n",
       "      <td>0.0</td>\n",
       "      <td>0.000000</td>\n",
       "      <td>0.000000</td>\n",
       "      <td>0.0</td>\n",
       "      <td>0.000000</td>\n",
       "      <td>0.000000</td>\n",
       "      <td>0.000000</td>\n",
       "      <td>0.183102</td>\n",
       "      <td>0.183102</td>\n",
       "    </tr>\n",
       "  </tbody>\n",
       "</table>\n",
       "</div>"
      ],
      "text/plain": [
       "            this  movie   is      very     scary  and      long       not  \\\n",
       "Sentence 1   0.0    0.0  0.0  0.156945  0.057924  0.0  0.156945  0.000000   \n",
       "Sentence 2   0.0    0.0  0.0  0.000000  0.050683  0.0  0.000000  0.137327   \n",
       "Sentence 3   0.0    0.0  0.0  0.000000  0.000000  0.0  0.000000  0.000000   \n",
       "\n",
       "                slow    spooky      good  \n",
       "Sentence 1  0.000000  0.000000  0.000000  \n",
       "Sentence 2  0.137327  0.000000  0.000000  \n",
       "Sentence 3  0.000000  0.183102  0.183102  "
      ]
     },
     "execution_count": 6,
     "metadata": {},
     "output_type": "execute_result"
    }
   ],
   "source": [
    "tfidf_list = []\n",
    "sent_one = \"This movie is very scary and long\"\n",
    "sent_two = \"This movie is not scary and is slow\"\n",
    "sent_three = \"This movie is spooky and good\"\n",
    "\n",
    "sentences = [sent_one, sent_two, sent_three]\n",
    "\n",
    "# Calculate IDF\n",
    "idf_dict = calculate_idf(sentences)\n",
    "\n",
    "# Calculate TF-IDF for each sentence\n",
    "for sentence in sentences:\n",
    "    tokens = tokenize(sentence)\n",
    "    tf = calculate_tf(tokens)\n",
    "    tfidf = calculate_tfidf(tf, idf_dict)\n",
    "    tfidf_list.append(tfidf)\n",
    "\n",
    "#  Create a DataFrame to display the results\n",
    "df = pd.DataFrame(tfidf_list)\n",
    "df.index = ['Sentence 1', 'Sentence 2', 'Sentence 3']\n",
    "df.fillna(0, inplace=True)\n",
    "df.head()"
   ]
  },
  {
   "cell_type": "code",
   "execution_count": null,
   "id": "c0efb66c",
   "metadata": {},
   "outputs": [],
   "source": []
  }
 ],
 "metadata": {
  "kernelspec": {
   "display_name": "Python 3 (ipykernel)",
   "language": "python",
   "name": "python3"
  },
  "language_info": {
   "codemirror_mode": {
    "name": "ipython",
    "version": 3
   },
   "file_extension": ".py",
   "mimetype": "text/x-python",
   "name": "python",
   "nbconvert_exporter": "python",
   "pygments_lexer": "ipython3",
   "version": "3.10.12"
  }
 },
 "nbformat": 4,
 "nbformat_minor": 5
}
