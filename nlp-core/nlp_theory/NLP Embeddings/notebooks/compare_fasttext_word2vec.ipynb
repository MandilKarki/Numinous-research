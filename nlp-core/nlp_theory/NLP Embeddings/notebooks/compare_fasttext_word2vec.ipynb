{
 "cells": [
  {
   "cell_type": "code",
   "execution_count": 1,
   "id": "e77e5a7d",
   "metadata": {},
   "outputs": [],
   "source": [
    "import gensim\n",
    "import numpy as np\n",
    "import pandas as pd"
   ]
  },
  {
   "cell_type": "code",
   "execution_count": 2,
   "id": "3a4c606d",
   "metadata": {},
   "outputs": [],
   "source": [
    "def compare_results(word: str, model_ft: gensim.models.FastText, model_w2v: gensim.models.Word2Vec) -> pd.DataFrame:\n",
    "    \"\"\"\n",
    "    Compare similarity search results between FastText and Word2Vec models for a given word.\n",
    "    \n",
    "    Args:\n",
    "        word (str): The word to compare.\n",
    "        model_ft (gensim.models.FastText): The FastText model.\n",
    "        model_w2v (gensim.models.Word2Vec): The Word2Vec model.\n",
    "\n",
    "    Returns:\n",
    "        pd.DataFrame: A DataFrame containing comparison results.\n",
    "    \"\"\"\n",
    "    word_count_ft = model_ft.wv.get_vecattr(word, 'count')\n",
    "    word_count_w2v = model_w2v.wv.get_vecattr(word, 'count')\n",
    "    print(f\"Word '{word}' has {word_count_ft} samples in training text.\")\n",
    "\n",
    "    print('Running similarity searches...')\n",
    "    results_ft = model_ft.wv.most_similar(word)\n",
    "    results_w2v = model_w2v.wv.most_similar(word)\n",
    "\n",
    "    table_rows = []\n",
    "\n",
    "    for (word_ft, score_ft), (word_w2v, score_w2v) in zip(results_ft, results_w2v):\n",
    "        count_ft = model_ft.wv.get_vecattr(word_ft, 'count')\n",
    "        count_w2v = model_w2v.wv.get_vecattr(word_w2v, 'count')\n",
    "\n",
    "        table_rows.append(\n",
    "            (word_ft, f'{count_ft:,}', f'{score_ft:.2f}', word_w2v, f'{count_w2v:,}', f'{score_w2v:.2f}')\n",
    "        )\n",
    "\n",
    "    columns = ['fasttext', 'freq_ft', 'score_ft', 'word2vec', 'freq_w2v', 'score_w2v']\n",
    "    df = pd.DataFrame(table_rows, columns=columns)\n",
    "    return df"
   ]
  },
  {
   "cell_type": "code",
   "execution_count": 3,
   "id": "31d62da6",
   "metadata": {},
   "outputs": [],
   "source": [
    "model_ft = gensim.models.FastText.load('../data/fasttext.model')\n",
    "model_w2v = gensim.models.Word2Vec.load('../data/word2vec.model')"
   ]
  },
  {
   "cell_type": "code",
   "execution_count": 4,
   "id": "673a8074",
   "metadata": {},
   "outputs": [
    {
     "name": "stdout",
     "output_type": "stream",
     "text": [
      "Word 'example' has 2912 samples in training text.\n",
      "Running similarity searches...\n",
      "          fasttext freq_ft score_ft      word2vec freq_w2v score_w2v\n",
      "0   counterexample       3     0.86      instance      565      0.70\n",
      "1         instance     565     0.85       synonym       47      0.53\n",
      "2         examples     781     0.82  abbreviation       36      0.50\n",
      "3  counterexamples       2     0.82      starters       46      0.50\n",
      "4      consistancy       2     0.79  illustration       66      0.49\n"
     ]
    }
   ],
   "source": [
    "word_to_compare = 'example'\n",
    "result_df = compare_results(word_to_compare, model_ft, model_w2v)\n",
    "print(result_df.head())"
   ]
  },
  {
   "cell_type": "code",
   "execution_count": 5,
   "id": "3986bd36",
   "metadata": {},
   "outputs": [
    {
     "name": "stdout",
     "output_type": "stream",
     "text": [
      "Word 'famous' has 577 samples in training text.\n",
      "Running similarity searches...\n",
      "    fasttext freq_ft score_ft     word2vec freq_w2v score_w2v\n",
      "0  famousdog       2     0.90        poets       41      0.65\n",
      "1    famouse       2     0.85  influential      119      0.65\n",
      "2   famously      25     0.81         poet       69      0.62\n",
      "3   infamous      67     0.77       bailey      138      0.59\n",
      "4  strangler       2     0.77     greatest      308      0.59\n"
     ]
    }
   ],
   "source": [
    "word_to_compare = 'famous'\n",
    "result_df = compare_results(word_to_compare, model_ft, model_w2v)\n",
    "print(result_df.head())"
   ]
  },
  {
   "cell_type": "code",
   "execution_count": 6,
   "id": "c7f00fdd",
   "metadata": {},
   "outputs": [
    {
     "name": "stdout",
     "output_type": "stream",
     "text": [
      "Norm of 'stupid': 16.118\n",
      "Norm of 'bwahahahaha': 0.603\n"
     ]
    }
   ],
   "source": [
    "# Calculate and store vector norms and similarities\n",
    "word_vectors_w2v = model_w2v.wv\n",
    "word_vectors_ft = model_ft.wv\n",
    "\n",
    "norm_stupid = np.linalg.norm(word_vectors_w2v['stupid'])\n",
    "norm_bwahahahaha = np.linalg.norm(word_vectors_w2v['bwahahahaha'])\n",
    "\n",
    "similarity_stupid_dumb_ft = word_vectors_ft.similarity('stupid', 'dumb')\n",
    "similarity_stupid_dumb_w2v = word_vectors_w2v.similarity('stupid', 'dumb')\n",
    "\n",
    "# Print the results\n",
    "print(f\"Norm of 'stupid': {norm_stupid:.3f}\")\n",
    "print(f\"Norm of 'bwahahahaha': {norm_bwahahahaha:.3f}\")"
   ]
  },
  {
   "cell_type": "code",
   "execution_count": 7,
   "id": "5ae02742",
   "metadata": {},
   "outputs": [
    {
     "name": "stdout",
     "output_type": "stream",
     "text": [
      "Similarity between 'stupid' and 'dumb:'\n",
      "  fasttext: 0.61\n",
      "  word2vec: 0.72\n"
     ]
    }
   ],
   "source": [
    "print(\"Similarity between 'stupid' and 'dumb:'\")\n",
    "print(f\"  fasttext: {similarity_stupid_dumb_ft:.2f}\")\n",
    "print(f\"  word2vec: {similarity_stupid_dumb_w2v:.2f}\")"
   ]
  }
 ],
 "metadata": {
  "kernelspec": {
   "display_name": "Python 3 (ipykernel)",
   "language": "python",
   "name": "python3"
  },
  "language_info": {
   "codemirror_mode": {
    "name": "ipython",
    "version": 3
   },
   "file_extension": ".py",
   "mimetype": "text/x-python",
   "name": "python",
   "nbconvert_exporter": "python",
   "pygments_lexer": "ipython3",
   "version": "3.10.12"
  }
 },
 "nbformat": 4,
 "nbformat_minor": 5
}
