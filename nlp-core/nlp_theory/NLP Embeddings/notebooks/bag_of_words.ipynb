{
 "cells": [
  {
   "cell_type": "code",
   "execution_count": 1,
   "id": "6e54adad",
   "metadata": {},
   "outputs": [],
   "source": [
    "import re\n",
    "import pandas as pd"
   ]
  },
  {
   "cell_type": "code",
   "execution_count": 2,
   "id": "15205b07",
   "metadata": {},
   "outputs": [],
   "source": [
    "def preprocess_text(text):\n",
    "    text = text.lower()\n",
    "    text = re.sub(r'[^\\w\\s]','', text)\n",
    "    return text"
   ]
  },
  {
   "cell_type": "code",
   "execution_count": 3,
   "id": "685b5e4f",
   "metadata": {},
   "outputs": [],
   "source": [
    "def tokenize(text):\n",
    "    return text.split()"
   ]
  },
  {
   "cell_type": "code",
   "execution_count": 4,
   "id": "974a9efc",
   "metadata": {},
   "outputs": [],
   "source": [
    "def create_vocab(tokenized_texts):\n",
    "    vocab = set()\n",
    "    for tokens in tokenized_texts:\n",
    "        vocab.update(tokens)\n",
    "    return sorted(vocab)"
   ]
  },
  {
   "cell_type": "code",
   "execution_count": 5,
   "id": "2855a7ea",
   "metadata": {},
   "outputs": [],
   "source": [
    "def create_bow(text, vocab):\n",
    "    bow = [0] * len(vocab)\n",
    "    tokenized_text = tokenize(text)\n",
    "    for token in tokenized_text:\n",
    "        if token in vocab:\n",
    "            index = vocab.index(token)\n",
    "            bow[index] += 1\n",
    "    return bow"
   ]
  },
  {
   "cell_type": "code",
   "execution_count": 6,
   "id": "24c85574",
   "metadata": {},
   "outputs": [],
   "source": [
    "text1 = \"This is a simple example.\"\n",
    "text2 = \"Another example for demonstration.\"\n",
    "\n",
    "text1 = preprocess_text(text1)\n",
    "text2 = preprocess_text(text2)"
   ]
  },
  {
   "cell_type": "code",
   "execution_count": 7,
   "id": "934cd9a2",
   "metadata": {},
   "outputs": [
    {
     "name": "stdout",
     "output_type": "stream",
     "text": [
      "Vocabulary: ['a', 'another', 'demonstration', 'example', 'for', 'is', 'simple', 'this']\n",
      "BoW 1: [1, 0, 0, 1, 0, 1, 1, 1]\n",
      "BoW 2: [0, 1, 1, 1, 1, 0, 0, 0]\n"
     ]
    }
   ],
   "source": [
    "tokenized_texts = [tokenize(text1), tokenize(text2)]\n",
    "vocab = create_vocab(tokenized_texts)\n",
    "\n",
    "bow1 = create_bow(text1, vocab)\n",
    "bow2 = create_bow(text2, vocab)\n",
    "\n",
    "print(\"Vocabulary:\", vocab)\n",
    "print(\"BoW 1:\", bow1)\n",
    "print(\"BoW 2:\", bow2)"
   ]
  },
  {
   "cell_type": "code",
   "execution_count": 8,
   "id": "baac5e0a",
   "metadata": {},
   "outputs": [],
   "source": [
    "data = {\n",
    "    \"Vocabulary\": vocab,\n",
    "    \"BoW 1\": bow1,\n",
    "    \"BoW 2\": bow2\n",
    "}\n",
    "df = pd.DataFrame(data)"
   ]
  },
  {
   "cell_type": "code",
   "execution_count": 9,
   "id": "9b89a0dd",
   "metadata": {},
   "outputs": [
    {
     "data": {
      "text/html": [
       "<div>\n",
       "<style scoped>\n",
       "    .dataframe tbody tr th:only-of-type {\n",
       "        vertical-align: middle;\n",
       "    }\n",
       "\n",
       "    .dataframe tbody tr th {\n",
       "        vertical-align: top;\n",
       "    }\n",
       "\n",
       "    .dataframe thead th {\n",
       "        text-align: right;\n",
       "    }\n",
       "</style>\n",
       "<table border=\"1\" class=\"dataframe\">\n",
       "  <thead>\n",
       "    <tr style=\"text-align: right;\">\n",
       "      <th></th>\n",
       "      <th>Vocabulary</th>\n",
       "      <th>BoW 1</th>\n",
       "      <th>BoW 2</th>\n",
       "    </tr>\n",
       "  </thead>\n",
       "  <tbody>\n",
       "    <tr>\n",
       "      <th>0</th>\n",
       "      <td>a</td>\n",
       "      <td>1</td>\n",
       "      <td>0</td>\n",
       "    </tr>\n",
       "    <tr>\n",
       "      <th>1</th>\n",
       "      <td>another</td>\n",
       "      <td>0</td>\n",
       "      <td>1</td>\n",
       "    </tr>\n",
       "    <tr>\n",
       "      <th>2</th>\n",
       "      <td>demonstration</td>\n",
       "      <td>0</td>\n",
       "      <td>1</td>\n",
       "    </tr>\n",
       "    <tr>\n",
       "      <th>3</th>\n",
       "      <td>example</td>\n",
       "      <td>1</td>\n",
       "      <td>1</td>\n",
       "    </tr>\n",
       "    <tr>\n",
       "      <th>4</th>\n",
       "      <td>for</td>\n",
       "      <td>0</td>\n",
       "      <td>1</td>\n",
       "    </tr>\n",
       "    <tr>\n",
       "      <th>5</th>\n",
       "      <td>is</td>\n",
       "      <td>1</td>\n",
       "      <td>0</td>\n",
       "    </tr>\n",
       "    <tr>\n",
       "      <th>6</th>\n",
       "      <td>simple</td>\n",
       "      <td>1</td>\n",
       "      <td>0</td>\n",
       "    </tr>\n",
       "    <tr>\n",
       "      <th>7</th>\n",
       "      <td>this</td>\n",
       "      <td>1</td>\n",
       "      <td>0</td>\n",
       "    </tr>\n",
       "  </tbody>\n",
       "</table>\n",
       "</div>"
      ],
      "text/plain": [
       "      Vocabulary  BoW 1  BoW 2\n",
       "0              a      1      0\n",
       "1        another      0      1\n",
       "2  demonstration      0      1\n",
       "3        example      1      1\n",
       "4            for      0      1\n",
       "5             is      1      0\n",
       "6         simple      1      0\n",
       "7           this      1      0"
      ]
     },
     "execution_count": 9,
     "metadata": {},
     "output_type": "execute_result"
    }
   ],
   "source": [
    "df"
   ]
  }
 ],
 "metadata": {
  "kernelspec": {
   "display_name": "Python 3 (ipykernel)",
   "language": "python",
   "name": "python3"
  },
  "language_info": {
   "codemirror_mode": {
    "name": "ipython",
    "version": 3
   },
   "file_extension": ".py",
   "mimetype": "text/x-python",
   "name": "python",
   "nbconvert_exporter": "python",
   "pygments_lexer": "ipython3",
   "version": "3.10.12"
  }
 },
 "nbformat": 4,
 "nbformat_minor": 5
}
