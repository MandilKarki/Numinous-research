{
  "nbformat": 4,
  "nbformat_minor": 0,
  "metadata": {
    "colab": {
      "provenance": []
    },
    "kernelspec": {
      "name": "python3",
      "display_name": "Python 3"
    },
    "language_info": {
      "name": "python"
    }
  },
  "cells": [
    {
      "cell_type": "code",
      "execution_count": 4,
      "metadata": {
        "id": "Y55I0uSQptp6"
      },
      "outputs": [],
      "source": [
        "from nltk.tokenize import word_tokenize\n",
        "from nltk.corpus import stopwords\n",
        "import string"
      ]
    },
    {
      "cell_type": "code",
      "source": [
        "import nltk\n",
        "\n",
        "nltk.download('stopwords')"
      ],
      "metadata": {
        "colab": {
          "base_uri": "https://localhost:8080/"
        },
        "id": "9S1EhaGnzdp0",
        "outputId": "dc2a0742-5427-4b80-b1ac-5e8accb89493"
      },
      "execution_count": 10,
      "outputs": [
        {
          "output_type": "stream",
          "name": "stderr",
          "text": [
            "[nltk_data] Downloading package stopwords to /root/nltk_data...\n",
            "[nltk_data]   Unzipping corpora/stopwords.zip.\n"
          ]
        },
        {
          "output_type": "execute_result",
          "data": {
            "text/plain": [
              "True"
            ]
          },
          "metadata": {},
          "execution_count": 10
        }
      ]
    },
    {
      "cell_type": "code",
      "source": [
        "corpus= '''\n",
        "Hello, I am Siddhartha Shrestha. I am from Nepal.\n",
        "I did my computer engineering from Tribhuwan University.\n",
        "Currently, I am working for renowned technology company\n",
        "as a Machine Learning Engineer. I was born on Jhapa.\n",
        "'''"
      ],
      "metadata": {
        "id": "K2rsv976y2Kk"
      },
      "execution_count": 16,
      "outputs": []
    },
    {
      "cell_type": "code",
      "source": [
        "def preprocessing(corpus):\n",
        "  stop_words = set(stopwords.words(\"english\"))\n",
        "\n",
        "  training_data = []\n",
        "\n",
        "  sentences = corpus.split(\".\")\n",
        "\n",
        "  for i in range(len(sentences)):\n",
        "    sentences[i] = sentences[i].strip()\n",
        "\n",
        "    words = sentences[i].split()\n",
        "\n",
        "    training_words =  [word.strip(string.punctuation) for word in words if word not in stop_words]\n",
        "\n",
        "    lowered_training_words = [word.lower() for word in training_words]\n",
        "\n",
        "    training_data.append(lowered_training_words)\n",
        "\n",
        "  return training_data"
      ],
      "metadata": {
        "id": "kF3JDfEMvifO"
      },
      "execution_count": 17,
      "outputs": []
    },
    {
      "cell_type": "code",
      "source": [
        "len(preprocessing(corpus))"
      ],
      "metadata": {
        "colab": {
          "base_uri": "https://localhost:8080/"
        },
        "id": "ZlI02gDJzVSU",
        "outputId": "cc4f0c4f-fcb8-4bac-ce49-cc3db4fe0951"
      },
      "execution_count": 18,
      "outputs": [
        {
          "output_type": "execute_result",
          "data": {
            "text/plain": [
              "6"
            ]
          },
          "metadata": {},
          "execution_count": 18
        }
      ]
    },
    {
      "cell_type": "code",
      "source": [
        "sentence_token = preprocessing(corpus)"
      ],
      "metadata": {
        "id": "AUdXcl3e0n25"
      },
      "execution_count": 19,
      "outputs": []
    },
    {
      "cell_type": "code",
      "source": [
        "sentence_token"
      ],
      "metadata": {
        "colab": {
          "base_uri": "https://localhost:8080/"
        },
        "id": "6jUl6CVB0sTz",
        "outputId": "229fc53e-941d-4387-b90c-098bab78a460"
      },
      "execution_count": 20,
      "outputs": [
        {
          "output_type": "execute_result",
          "data": {
            "text/plain": [
              "[['hello', 'i', 'siddhartha', 'shrestha'],\n",
              " ['i', 'nepal'],\n",
              " ['i', 'computer', 'engineering', 'tribhuwan', 'university'],\n",
              " ['currently',\n",
              "  'i',\n",
              "  'working',\n",
              "  'renowned',\n",
              "  'technology',\n",
              "  'company',\n",
              "  'machine',\n",
              "  'learning',\n",
              "  'engineer'],\n",
              " ['i', 'born', 'jhapa'],\n",
              " []]"
            ]
          },
          "metadata": {},
          "execution_count": 20
        }
      ]
    },
    {
      "cell_type": "code",
      "source": [
        "def generate_vocab_index(sentences):\n",
        "  data = list(set(word for sentence in sentences for word in sentence))\n",
        "  data = sorted(data)\n",
        "  vocab = {}\n",
        "  for i in range(len(data)):\n",
        "    vocab[data[i]] = i\n",
        "  return vocab ,data"
      ],
      "metadata": {
        "id": "C7CY5XVMxzlO"
      },
      "execution_count": 60,
      "outputs": []
    },
    {
      "cell_type": "code",
      "source": [
        "vocab_index, data = generate_vocab_index(sentence_token)"
      ],
      "metadata": {
        "id": "52qKK4Ur1uRV"
      },
      "execution_count": 61,
      "outputs": []
    },
    {
      "cell_type": "code",
      "source": [
        "vocab_index"
      ],
      "metadata": {
        "colab": {
          "base_uri": "https://localhost:8080/"
        },
        "id": "orqOMMZp12RF",
        "outputId": "b0fe8b02-aa05-4979-a776-cea064acfd4f"
      },
      "execution_count": 62,
      "outputs": [
        {
          "output_type": "execute_result",
          "data": {
            "text/plain": [
              "{'born': 0,\n",
              " 'company': 1,\n",
              " 'computer': 2,\n",
              " 'currently': 3,\n",
              " 'engineer': 4,\n",
              " 'engineering': 5,\n",
              " 'hello': 6,\n",
              " 'i': 7,\n",
              " 'jhapa': 8,\n",
              " 'learning': 9,\n",
              " 'machine': 10,\n",
              " 'nepal': 11,\n",
              " 'renowned': 12,\n",
              " 'shrestha': 13,\n",
              " 'siddhartha': 14,\n",
              " 'technology': 15,\n",
              " 'tribhuwan': 16,\n",
              " 'university': 17,\n",
              " 'working': 18}"
            ]
          },
          "metadata": {},
          "execution_count": 62
        }
      ]
    },
    {
      "cell_type": "code",
      "source": [
        "window_size = 2\n",
        "X_train = []\n",
        "y_train = []\n",
        "#for i in range(len(words)):\n",
        "for sentence in sentence_token:\n",
        "  for i in range(len(sentence)):\n",
        "    center_word = [0 for x in range(len(vocab_index))]\n",
        "    center_word[vocab_index[sentence[i]]] = 1\n",
        "    context = [0 for x in range(len(vocab_index))]\n",
        "\n",
        "    for j in range(i-window_size,i+window_size+1):\n",
        "      if i!=j and j>=0 and j<len(sentence):\n",
        "        context[vocab_index[sentence[j]]] += 1\n",
        "    X_train.append(center_word)\n",
        "    y_train.append(context)\n",
        "\n",
        "# w2v.initialize(V,data)\n",
        "\n",
        "# return w2v.X_train,w2v.y_train"
      ],
      "metadata": {
        "id": "YnYR3l8e4kcX"
      },
      "execution_count": 63,
      "outputs": []
    },
    {
      "cell_type": "code",
      "source": [
        "X_train"
      ],
      "metadata": {
        "colab": {
          "base_uri": "https://localhost:8080/"
        },
        "id": "To_KOlNU5sRL",
        "outputId": "4463e4f4-3701-4fcf-be63-b838ff7acde6"
      },
      "execution_count": 64,
      "outputs": [
        {
          "output_type": "execute_result",
          "data": {
            "text/plain": [
              "[[0, 0, 0, 0, 0, 0, 1, 0, 0, 0, 0, 0, 0, 0, 0, 0, 0, 0, 0],\n",
              " [0, 0, 0, 0, 0, 0, 0, 1, 0, 0, 0, 0, 0, 0, 0, 0, 0, 0, 0],\n",
              " [0, 0, 0, 0, 0, 0, 0, 0, 0, 0, 0, 0, 0, 0, 1, 0, 0, 0, 0],\n",
              " [0, 0, 0, 0, 0, 0, 0, 0, 0, 0, 0, 0, 0, 1, 0, 0, 0, 0, 0],\n",
              " [0, 0, 0, 0, 0, 0, 0, 1, 0, 0, 0, 0, 0, 0, 0, 0, 0, 0, 0],\n",
              " [0, 0, 0, 0, 0, 0, 0, 0, 0, 0, 0, 1, 0, 0, 0, 0, 0, 0, 0],\n",
              " [0, 0, 0, 0, 0, 0, 0, 1, 0, 0, 0, 0, 0, 0, 0, 0, 0, 0, 0],\n",
              " [0, 0, 1, 0, 0, 0, 0, 0, 0, 0, 0, 0, 0, 0, 0, 0, 0, 0, 0],\n",
              " [0, 0, 0, 0, 0, 1, 0, 0, 0, 0, 0, 0, 0, 0, 0, 0, 0, 0, 0],\n",
              " [0, 0, 0, 0, 0, 0, 0, 0, 0, 0, 0, 0, 0, 0, 0, 0, 1, 0, 0],\n",
              " [0, 0, 0, 0, 0, 0, 0, 0, 0, 0, 0, 0, 0, 0, 0, 0, 0, 1, 0],\n",
              " [0, 0, 0, 1, 0, 0, 0, 0, 0, 0, 0, 0, 0, 0, 0, 0, 0, 0, 0],\n",
              " [0, 0, 0, 0, 0, 0, 0, 1, 0, 0, 0, 0, 0, 0, 0, 0, 0, 0, 0],\n",
              " [0, 0, 0, 0, 0, 0, 0, 0, 0, 0, 0, 0, 0, 0, 0, 0, 0, 0, 1],\n",
              " [0, 0, 0, 0, 0, 0, 0, 0, 0, 0, 0, 0, 1, 0, 0, 0, 0, 0, 0],\n",
              " [0, 0, 0, 0, 0, 0, 0, 0, 0, 0, 0, 0, 0, 0, 0, 1, 0, 0, 0],\n",
              " [0, 1, 0, 0, 0, 0, 0, 0, 0, 0, 0, 0, 0, 0, 0, 0, 0, 0, 0],\n",
              " [0, 0, 0, 0, 0, 0, 0, 0, 0, 0, 1, 0, 0, 0, 0, 0, 0, 0, 0],\n",
              " [0, 0, 0, 0, 0, 0, 0, 0, 0, 1, 0, 0, 0, 0, 0, 0, 0, 0, 0],\n",
              " [0, 0, 0, 0, 1, 0, 0, 0, 0, 0, 0, 0, 0, 0, 0, 0, 0, 0, 0],\n",
              " [0, 0, 0, 0, 0, 0, 0, 1, 0, 0, 0, 0, 0, 0, 0, 0, 0, 0, 0],\n",
              " [1, 0, 0, 0, 0, 0, 0, 0, 0, 0, 0, 0, 0, 0, 0, 0, 0, 0, 0],\n",
              " [0, 0, 0, 0, 0, 0, 0, 0, 1, 0, 0, 0, 0, 0, 0, 0, 0, 0, 0]]"
            ]
          },
          "metadata": {},
          "execution_count": 64
        }
      ]
    },
    {
      "cell_type": "code",
      "source": [
        "y_train"
      ],
      "metadata": {
        "colab": {
          "base_uri": "https://localhost:8080/"
        },
        "id": "W9r9Mssi5u4B",
        "outputId": "3d32ce7d-6b04-4562-b4f1-3e37ff10b14c"
      },
      "execution_count": 65,
      "outputs": [
        {
          "output_type": "execute_result",
          "data": {
            "text/plain": [
              "[[0, 0, 0, 0, 0, 0, 0, 1, 0, 0, 0, 0, 0, 0, 1, 0, 0, 0, 0],\n",
              " [0, 0, 0, 0, 0, 0, 1, 0, 0, 0, 0, 0, 0, 1, 1, 0, 0, 0, 0],\n",
              " [0, 0, 0, 0, 0, 0, 1, 1, 0, 0, 0, 0, 0, 1, 0, 0, 0, 0, 0],\n",
              " [0, 0, 0, 0, 0, 0, 0, 1, 0, 0, 0, 0, 0, 0, 1, 0, 0, 0, 0],\n",
              " [0, 0, 0, 0, 0, 0, 0, 0, 0, 0, 0, 1, 0, 0, 0, 0, 0, 0, 0],\n",
              " [0, 0, 0, 0, 0, 0, 0, 1, 0, 0, 0, 0, 0, 0, 0, 0, 0, 0, 0],\n",
              " [0, 0, 1, 0, 0, 1, 0, 0, 0, 0, 0, 0, 0, 0, 0, 0, 0, 0, 0],\n",
              " [0, 0, 0, 0, 0, 1, 0, 1, 0, 0, 0, 0, 0, 0, 0, 0, 1, 0, 0],\n",
              " [0, 0, 1, 0, 0, 0, 0, 1, 0, 0, 0, 0, 0, 0, 0, 0, 1, 1, 0],\n",
              " [0, 0, 1, 0, 0, 1, 0, 0, 0, 0, 0, 0, 0, 0, 0, 0, 0, 1, 0],\n",
              " [0, 0, 0, 0, 0, 1, 0, 0, 0, 0, 0, 0, 0, 0, 0, 0, 1, 0, 0],\n",
              " [0, 0, 0, 0, 0, 0, 0, 1, 0, 0, 0, 0, 0, 0, 0, 0, 0, 0, 1],\n",
              " [0, 0, 0, 1, 0, 0, 0, 0, 0, 0, 0, 0, 1, 0, 0, 0, 0, 0, 1],\n",
              " [0, 0, 0, 1, 0, 0, 0, 1, 0, 0, 0, 0, 1, 0, 0, 1, 0, 0, 0],\n",
              " [0, 1, 0, 0, 0, 0, 0, 1, 0, 0, 0, 0, 0, 0, 0, 1, 0, 0, 1],\n",
              " [0, 1, 0, 0, 0, 0, 0, 0, 0, 0, 1, 0, 1, 0, 0, 0, 0, 0, 1],\n",
              " [0, 0, 0, 0, 0, 0, 0, 0, 0, 1, 1, 0, 1, 0, 0, 1, 0, 0, 0],\n",
              " [0, 1, 0, 0, 1, 0, 0, 0, 0, 1, 0, 0, 0, 0, 0, 1, 0, 0, 0],\n",
              " [0, 1, 0, 0, 1, 0, 0, 0, 0, 0, 1, 0, 0, 0, 0, 0, 0, 0, 0],\n",
              " [0, 0, 0, 0, 0, 0, 0, 0, 0, 1, 1, 0, 0, 0, 0, 0, 0, 0, 0],\n",
              " [1, 0, 0, 0, 0, 0, 0, 0, 1, 0, 0, 0, 0, 0, 0, 0, 0, 0, 0],\n",
              " [0, 0, 0, 0, 0, 0, 0, 1, 1, 0, 0, 0, 0, 0, 0, 0, 0, 0, 0],\n",
              " [1, 0, 0, 0, 0, 0, 0, 1, 0, 0, 0, 0, 0, 0, 0, 0, 0, 0, 0]]"
            ]
          },
          "metadata": {},
          "execution_count": 65
        }
      ]
    },
    {
      "cell_type": "code",
      "source": [
        "import numpy as np\n",
        "\n",
        "def softmax(x):\n",
        "  \"\"\"Compute softmax values for each sets of scores in x.\"\"\"\n",
        "  e_x = np.exp(x - np.max(x))\n",
        "  return e_x / e_x.sum()\n",
        "\n",
        "class word2vec(object):\n",
        "  def __init__(self, words, word_index):\n",
        "    self.N = 10\n",
        "    self.alpha = 0.001\n",
        "    self.words = words\n",
        "    self.word_index = word_index\n",
        "    self.initialize_weight()\n",
        "\n",
        "  def initialize_weight(self):\n",
        "    self.W = np.random.uniform(-0.8, 0.8, (len(self.words), self.N))\n",
        "    self.W1 = np.random.uniform(-0.8, 0.8, (self.N, len(self.words)))\n",
        "\n",
        "  def feed_forward(self,X):\n",
        "    self.h = np.dot(self.W.T,X).reshape(self.N,1)\n",
        "    self.u = np.dot(self.W1.T,self.h)\n",
        "    #print(self.u)\n",
        "    self.y = softmax(self.u)\n",
        "    return self.y\n",
        "\n",
        "  def backpropagate(self,x,t):\n",
        "    e = self.y - np.asarray(t).reshape(len(self.words),1)\n",
        "    # e.shape is V x 1\n",
        "    dLdW1 = np.dot(self.h,e.T)\n",
        "    X = np.array(x).reshape(len(self.words),1)\n",
        "    dLdW = np.dot(X, np.dot(self.W1,e).T)\n",
        "    self.W1 = self.W1 - self.alpha*dLdW1\n",
        "    self.W = self.W - self.alpha*dLdW\n",
        "\n",
        "  def train(self,epochs,x_train, y_train):\n",
        "    for x in range(1,epochs):\n",
        "      self.loss = 0\n",
        "      for j in range(len(x_train)):\n",
        "        self.feed_forward(x_train[j])\n",
        "        self.backpropagate(x_train[j],y_train[j])\n",
        "        C = 0\n",
        "        for m in range(len(self.words)):\n",
        "          if(y_train[j][m]):\n",
        "            self.loss += -1*self.u[m][0]\n",
        "            C += 1\n",
        "        self.loss += C*np.log(np.sum(np.exp(self.u)))\n",
        "      print(\"epoch \",x, \" loss = \",self.loss)\n",
        "      self.alpha *= 1/( (1+self.alpha*x) )\n",
        "\n",
        "  def predict(self,word,number_of_predictions):\n",
        "    if word in self.words:\n",
        "      index = self.word_index[word]\n",
        "      X = [0 for i in range(len(self.words))]\n",
        "      X[index] = 1\n",
        "      prediction = self.feed_forward(X)\n",
        "      output = {}\n",
        "      for i in range(len(self.words)):\n",
        "        output[prediction[i][0]] = i\n",
        "\n",
        "      top_context_words = []\n",
        "      for k in sorted(output,reverse=True):\n",
        "        top_context_words.append(self.words[output[k]])\n",
        "        if(len(top_context_words)>=number_of_predictions):\n",
        "          break\n",
        "\n",
        "      return top_context_words\n",
        "    else:\n",
        "        print(\"Word not found in dictionary\")"
      ],
      "metadata": {
        "id": "cdEssXgY5v-w"
      },
      "execution_count": 79,
      "outputs": []
    },
    {
      "cell_type": "code",
      "source": [
        "w2v = word2vec(\n",
        "    words= data,\n",
        "    word_index = vocab_index\n",
        ")\n",
        "\n",
        "w2v.train(\n",
        "    epochs = 10,\n",
        "    x_train = X_train,\n",
        "    y_train = y_train\n",
        ")"
      ],
      "metadata": {
        "colab": {
          "base_uri": "https://localhost:8080/"
        },
        "id": "uJgQnoPEALte",
        "outputId": "2f44fc76-3fc5-437b-e24b-3c1a775c1dba"
      },
      "execution_count": 80,
      "outputs": [
        {
          "output_type": "stream",
          "name": "stdout",
          "text": [
            "epoch  1  loss =  189.26516930320182\n",
            "epoch  2  loss =  189.0749105365467\n",
            "epoch  3  loss =  188.8853246580129\n",
            "epoch  4  loss =  188.6965916727837\n",
            "epoch  5  loss =  188.50888764093855\n",
            "epoch  6  loss =  188.32238369918824\n",
            "epoch  7  loss =  188.1372451464261\n",
            "epoch  8  loss =  187.95363060490743\n",
            "epoch  9  loss =  187.77169126701517\n"
          ]
        }
      ]
    },
    {
      "cell_type": "code",
      "source": [
        "print(w2v.predict(\"around\",3))"
      ],
      "metadata": {
        "colab": {
          "base_uri": "https://localhost:8080/"
        },
        "id": "nf-waeebBDiX",
        "outputId": "ecf3da6f-f9b3-43a1-8ec5-0e4aadd07b1c"
      },
      "execution_count": 81,
      "outputs": [
        {
          "output_type": "stream",
          "name": "stdout",
          "text": [
            "Word not found in dictionary\n",
            "None\n"
          ]
        }
      ]
    },
    {
      "cell_type": "code",
      "source": [
        "print(w2v.predict(\"siddhartha\",3))"
      ],
      "metadata": {
        "colab": {
          "base_uri": "https://localhost:8080/"
        },
        "id": "1vXkqYqVBcxs",
        "outputId": "10a6cc29-c9d8-460c-83ae-523f6a726160"
      },
      "execution_count": 82,
      "outputs": [
        {
          "output_type": "stream",
          "name": "stdout",
          "text": [
            "['siddhartha', 'company', 'i']\n"
          ]
        }
      ]
    },
    {
      "cell_type": "code",
      "source": [],
      "metadata": {
        "id": "9nGaFDiOBiMM"
      },
      "execution_count": null,
      "outputs": []
    }
  ]
}