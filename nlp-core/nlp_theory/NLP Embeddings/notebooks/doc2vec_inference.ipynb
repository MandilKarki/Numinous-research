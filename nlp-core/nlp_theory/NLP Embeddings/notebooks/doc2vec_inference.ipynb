{
 "cells": [
  {
   "cell_type": "code",
   "execution_count": 1,
   "id": "673ef317",
   "metadata": {},
   "outputs": [],
   "source": [
    "import os\n",
    "from gensim.models.doc2vec import Doc2Vec, TaggedDocument\n",
    "from nltk.tokenize import word_tokenize"
   ]
  },
  {
   "cell_type": "code",
   "execution_count": 2,
   "id": "d3c0bfc5",
   "metadata": {},
   "outputs": [],
   "source": [
    "model = Doc2Vec.load('../examples/skill_doc2vec.model')"
   ]
  },
  {
   "cell_type": "code",
   "execution_count": 3,
   "id": "3a17e6d9",
   "metadata": {},
   "outputs": [],
   "source": [
    "new_resume = 'This is a an example resume containing skills such as Machine Learning and Data Science'"
   ]
  },
  {
   "cell_type": "code",
   "execution_count": 4,
   "id": "88cb079f",
   "metadata": {},
   "outputs": [],
   "source": [
    "new_tokens = word_tokenize(new_resume)"
   ]
  },
  {
   "cell_type": "code",
   "execution_count": 5,
   "id": "d56b7458",
   "metadata": {},
   "outputs": [],
   "source": [
    "inferred_vector = model.infer_vector(new_tokens)"
   ]
  },
  {
   "cell_type": "code",
   "execution_count": 6,
   "id": "1534ce0c",
   "metadata": {},
   "outputs": [],
   "source": [
    "similar_documents = model.wv.most_similar([inferred_vector], topn=5)"
   ]
  },
  {
   "cell_type": "code",
   "execution_count": 7,
   "id": "f0470556",
   "metadata": {},
   "outputs": [
    {
     "name": "stdout",
     "output_type": "stream",
     "text": [
      "Document ID: breadth, similarity: 0.7548306584358215\n",
      "Document ID: chen, similarity: 0.727245032787323\n",
      "Document ID: josso, similarity: 0.7059981226921082\n",
      "Document ID: mdb, similarity: 0.6929764747619629\n",
      "Document ID: something, similarity: 0.6907110214233398\n"
     ]
    }
   ],
   "source": [
    "for doc_id, similarity in similar_documents:\n",
    "    print(f\"Document ID: {doc_id}, similarity: {similarity}\")"
   ]
  },
  {
   "cell_type": "code",
   "execution_count": 8,
   "id": "8abb415d",
   "metadata": {},
   "outputs": [],
   "source": [
    "def load_and_infere(model_path, new_documents):\n",
    "    model = Doc2Vec.load(model_path)\n",
    "    inferred_vestors = []\n",
    "    similar_documents_list = []\n",
    "    \n",
    "    for new_tokens in new_documents:\n",
    "        new_tokens = word_tokenize(new_resume.lower())\n",
    "        inferred_vector = model.infer_vector(new_tokens)\n",
    "        inferred_vestors.append(inferred_vector)\n",
    "        \n",
    "        similar_documents = model.wv.most_similar([inferred_vector], topn = 5)\n",
    "        similar_documents_list.append(similar_documents)\n",
    "    return inferred_vestors, similar_documents_list"
   ]
  },
  {
   "cell_type": "code",
   "execution_count": 9,
   "id": "93e3e5ba",
   "metadata": {},
   "outputs": [],
   "source": [
    "model_path = '../examples/skill_doc2vec.model'\n",
    "\n",
    "new_documents = [\n",
    "    'Machine Learning',\n",
    "    'Data Science',\n",
    "    'This is the first python project for non tech person'\n",
    "]\n",
    "inferred_vectors, similar_documents_list = load_and_infere(model_path, new_documents)"
   ]
  },
  {
   "cell_type": "code",
   "execution_count": 10,
   "id": "39122ddf",
   "metadata": {},
   "outputs": [
    {
     "name": "stdout",
     "output_type": "stream",
     "text": [
      "New Data 1\n",
      "Content: Machine Learning\n",
      "Inferred Vector: [-0.85341334  0.15513223 -1.7185785   2.9130414   1.1108916   0.38241875\n",
      "  0.02897743 -2.0606613  -2.133069    1.2288365  -0.6845509  -2.0794873\n",
      " -1.2154437   1.2213751   1.1178578   0.4750477  -1.0381731  -0.72743374\n",
      "  0.55306375  1.0311916 ]\n",
      "Similar Documents\n",
      "Document ID: breadth, Similarity: 0.8095250129699707\n",
      "Document ID: knowledge, Similarity: 0.744874119758606\n",
      "Document ID: exercises, Similarity: 0.7358857989311218\n",
      "Document ID: want, Similarity: 0.7206233739852905\n",
      "Document ID: aptitude, Similarity: 0.6967765688896179\n",
      "========================================\n",
      "New Data 2\n",
      "Content: Data Science\n",
      "Inferred Vector: [-1.0575004   0.21414135 -1.6590389   2.7559853   1.147802    0.41254443\n",
      "  0.14555383 -2.0015347  -2.0938745   1.1306616  -0.6190472  -2.211668\n",
      " -1.4638886   0.9973546   1.0125121   0.78275794 -0.8257643  -0.96015733\n",
      "  0.54286605  1.194178  ]\n",
      "Similar Documents\n",
      "Document ID: breadth, Similarity: 0.7703507542610168\n",
      "Document ID: exercises, Similarity: 0.71491938829422\n",
      "Document ID: knowledge, Similarity: 0.7103368639945984\n",
      "Document ID: want, Similarity: 0.6957135796546936\n",
      "Document ID: qualification, Similarity: 0.6890742778778076\n",
      "========================================\n",
      "New Data 3\n",
      "Content: This is the first python project for non tech person\n",
      "Inferred Vector: [-0.9116382   0.2576365  -1.8909796   2.66482     1.0192238   0.37911347\n",
      " -0.01186727 -1.9346806  -2.2313685   1.2637589  -0.7268536  -1.8876495\n",
      " -1.2321143   0.9557314   1.1892194   0.67882615 -0.9580779  -0.72683144\n",
      "  0.53429663  1.0438123 ]\n",
      "Similar Documents\n",
      "Document ID: breadth, Similarity: 0.7925235033035278\n",
      "Document ID: exercises, Similarity: 0.7335301041603088\n",
      "Document ID: knowledge, Similarity: 0.7235320806503296\n",
      "Document ID: want, Similarity: 0.7126811742782593\n",
      "Document ID: practice, Similarity: 0.7005635499954224\n",
      "========================================\n"
     ]
    }
   ],
   "source": [
    "for i, data in enumerate(new_documents):\n",
    "    print(f\"New Data {i +1}\")\n",
    "    print(\"Content:\", data)\n",
    "    print(\"Inferred Vector:\", inferred_vectors[i])\n",
    "    print(\"Similar Documents\")\n",
    "    for doc_id, similarity in similar_documents_list[i]:\n",
    "        print(f\"Document ID: {doc_id}, Similarity: {similarity}\")\n",
    "    print(\"=\"*40)"
   ]
  },
  {
   "cell_type": "code",
   "execution_count": null,
   "id": "e4a46de2",
   "metadata": {},
   "outputs": [],
   "source": []
  }
 ],
 "metadata": {
  "kernelspec": {
   "display_name": "Python 3 (ipykernel)",
   "language": "python",
   "name": "python3"
  },
  "language_info": {
   "codemirror_mode": {
    "name": "ipython",
    "version": 3
   },
   "file_extension": ".py",
   "mimetype": "text/x-python",
   "name": "python",
   "nbconvert_exporter": "python",
   "pygments_lexer": "ipython3",
   "version": "3.10.12"
  }
 },
 "nbformat": 4,
 "nbformat_minor": 5
}
